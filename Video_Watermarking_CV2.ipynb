{
 "cells": [
  {
   "cell_type": "code",
   "execution_count": null,
   "metadata": {},
   "outputs": [],
   "source": [
    "import numpy as np\n",
    "import pywt\n",
    "import cv2\n",
    "import os\n",
    "from PIL import Image\n",
    "from scipy.fftpack import dct\n",
    "from scipy.fftpack import idct\n",
    "import matplotlib.pyplot as plt"
   ]
  },
  {
   "cell_type": "markdown",
   "metadata": {},
   "source": [
    "### Global Variables"
   ]
  },
  {
   "cell_type": "code",
   "execution_count": null,
   "metadata": {},
   "outputs": [],
   "source": [
    "watermark = 'wm_rosace.jpg' #Name of the watermark image, must be in the \"files\" folder\n",
    "video = 'oppenheimer_trailer.mp4' #Name of the video, must be in the \"files\" folder\n",
    "\n",
    "file_folder = r'./files/' #Folder where the video and the watermark are stored\n",
    "output_folder = r'./output/' #Folder where the output video will be stored\n",
    "\n",
    "#Watermarking Parameters\n",
    "stride = 4\n",
    "block_ind = 2\n",
    "wm_size = 256\n",
    "coeff = 0.1\n",
    "\n",
    "#Video Parameters\n",
    "first_frame_number = -1\n",
    "last_frame_number = 600"
   ]
  },
  {
   "cell_type": "markdown",
   "metadata": {},
   "source": [
    "### Functions"
   ]
  },
  {
   "cell_type": "code",
   "execution_count": null,
   "metadata": {},
   "outputs": [],
   "source": [
    "def convert_image(image_name, size): #Converts the watermark to the proper file format\n",
    "    img = Image.open( file_folder + image_name)\n",
    "\n",
    "    img = img.resize((size, size), 1)\n",
    "    img = img.convert('L')\n",
    "    \n",
    " \n",
    "    image_array = np.array(img.getdata(), dtype=np.float).reshape((size, size))\n",
    "       \n",
    "\n",
    "    return image_array"
   ]
  },
  {
   "cell_type": "code",
   "execution_count": null,
   "metadata": {},
   "outputs": [],
   "source": [
    "def convert_frame(image, size): #Converts the frame to the proper file format\n",
    "    img = Image.fromarray(image)\n",
    "    img = img.resize((size, size), 1)\n",
    "    img = img.convert('L')\n",
    "\n",
    " \n",
    "    image_array = np.array(img.getdata(), dtype=np.float).reshape((size, size))\n",
    "           \n",
    "\n",
    "    return image_array"
   ]
  },
  {
   "cell_type": "code",
   "execution_count": null,
   "metadata": {},
   "outputs": [],
   "source": [
    "def process_coefficients(imArray, model, level): #Decomposes the frame into wavelet coefficients\n",
    "    coeffs=pywt.wavedec2(data = imArray, wavelet = model, level = level)\n",
    "    # print coeffs[0].__len__()\n",
    "    coeffs_H=list(coeffs) \n",
    "   \n",
    "    return coeffs_H\n"
   ]
  },
  {
   "cell_type": "code",
   "execution_count": null,
   "metadata": {},
   "outputs": [],
   "source": [
    "def embed_mod2(coeff_image, coeff_watermark, offset=0): \n",
    "    for i in xrange(coeff_watermark.__len__()):\n",
    "        for j in xrange(coeff_watermark[i].__len__()):\n",
    "            coeff_image[i*2+offset][j*2+offset] = coeff_watermark[i][j]\n",
    "\n",
    "    return coeff_image"
   ]
  },
  {
   "cell_type": "code",
   "execution_count": null,
   "metadata": {},
   "outputs": [],
   "source": [
    "def embed_mod4(coeff_image, coeff_watermark):\n",
    "    for i in xrange(coeff_watermark.__len__()):\n",
    "        for j in xrange(coeff_watermark[i].__len__()):\n",
    "            coeff_image[i*4][j*4] = coeff_watermark[i][j]\n",
    "\n",
    "    return coeff_image"
   ]
  },
  {
   "cell_type": "code",
   "execution_count": null,
   "metadata": {},
   "outputs": [],
   "source": [
    "def embed_watermark(watermark_array, orig_image): #Embeds the watermark into the frame as a flattened array\n",
    "    watermark_array_size = watermark_array[0].__len__()\n",
    "    watermark_flat = watermark_array.ravel()\n",
    "    ind = 0\n",
    "    \n",
    "    for x in range (0, orig_image.__len__(), stride):\n",
    "        for y in range (0, orig_image.__len__(), stride):\n",
    "            if ind < watermark_flat.__len__():\n",
    "                subdct = orig_image[x:x+stride, y:y+stride]\n",
    "                subdct[block_ind][block_ind] = watermark_flat[ind] * coeff\n",
    "                orig_image[x:x+stride, y:y+stride] = subdct\n",
    "                ind += 1 \n",
    "\n",
    "    return orig_image, watermark_flat"
   ]
  },
  {
   "cell_type": "code",
   "execution_count": null,
   "metadata": {},
   "outputs": [],
   "source": [
    "def apply_dct(image_array): #Applies the DCT to the frame\n",
    "    size = image_array[0].__len__()\n",
    "    all_subdct = np.empty((size, size))\n",
    "    for i in range (0, size, stride):\n",
    "        for j in range (0, size, stride):\n",
    "            subpixels = image_array[i:i+stride, j:j+stride]\n",
    "            subdct = dct(dct(subpixels.T, norm=\"ortho\").T, norm=\"ortho\")\n",
    "            all_subdct[i:i+stride, j:j+stride] = subdct\n",
    "\n",
    "    return all_subdct"
   ]
  },
  {
   "cell_type": "code",
   "execution_count": null,
   "metadata": {},
   "outputs": [],
   "source": [
    "def inverse_dct(all_subdct): #Applies the inverse DCT to the frame\n",
    "    size = all_subdct[0].__len__()\n",
    "    all_subidct = np.empty((size, size))\n",
    "    for i in range (0, size, stride):\n",
    "        for j in range (0, size, stride):\n",
    "            subidct = idct(idct(all_subdct[i:i+stride, j:j+stride].T, norm=\"ortho\").T, norm=\"ortho\")\n",
    "            all_subidct[i:i+stride, j:j+stride] = subidct\n",
    "\n",
    "    return all_subidct"
   ]
  },
  {
   "cell_type": "code",
   "execution_count": null,
   "metadata": {},
   "outputs": [],
   "source": [
    "def get_watermark(dct_watermarked_coeff, watermark_size): #Extracts the flat watermark from the frame\n",
    "    \n",
    "    subwatermarks = []\n",
    "\n",
    "    for x in range (0, dct_watermarked_coeff.__len__(), stride):\n",
    "        for y in range (0, dct_watermarked_coeff.__len__(), stride):\n",
    "            coeff_slice = dct_watermarked_coeff[x:x+stride, y:y+stride]\n",
    "            subwatermarks.append(coeff_slice[block_ind][block_ind] * 1/(2*coeff))\n",
    "\n",
    "    watermark = np.array(subwatermarks).reshape((watermark_size, watermark_size))\n",
    "\n",
    "    return watermark, subwatermarks"
   ]
  },
  {
   "cell_type": "code",
   "execution_count": null,
   "metadata": {},
   "outputs": [],
   "source": [
    "def recover_watermark(image_array, model='haar', level = 1): #Recovers the watermark from the frame as a 2D image\n",
    "\n",
    "\n",
    "    coeffs_watermarked_image = process_coefficients(image_array, model, level=level)\n",
    "    dct_watermarked_coeff = apply_dct(coeffs_watermarked_image[0])\n",
    "    \n",
    "    watermark_array, flat_recovered = get_watermark(dct_watermarked_coeff, wm_size)\n",
    "\n",
    "    watermark_array =  np.uint8(watermark_array)\n",
    "\n",
    "#Save result\n",
    "    img = Image.fromarray(watermark_array)\n",
    "    return img, flat_recovered"
   ]
  },
  {
   "cell_type": "code",
   "execution_count": null,
   "metadata": {},
   "outputs": [],
   "source": [
    "def save_watermark(frame_number, model='haar', level = 1): #Saves the recovered watermark as a 2D image\n",
    "    image = Image.open(output_folder + r'frames/frame_{}.png'.format(frame_number))\n",
    "    image = np.array(image)\n",
    "    image = np.array(image, dtype=np.float)\n",
    "    print(type(image))\n",
    "\n",
    "    recovered, flat_recovered = recover_watermark(image_array = image, model=model, level = level)\n",
    "\n",
    "    recovered.save(output_folder + r'recovered_watermark/recovered_watermark_{}.png'.format(frame_number))\n",
    "    return recovered, flat_recovered\n"
   ]
  },
  {
   "cell_type": "code",
   "execution_count": null,
   "metadata": {},
   "outputs": [],
   "source": [
    "def dist(l1, l2): #Calculates the distance between two flattened arrays\n",
    "    return (sum((a - b) ** 2 for a, b in zip(l1, l2)) ** 0.5) / len(l1)"
   ]
  },
  {
   "cell_type": "code",
   "execution_count": null,
   "metadata": {},
   "outputs": [],
   "source": [
    "def w2d(img): #Main function, embeds the watermark into the video, saves the output frames, and recovers the watermark\n",
    "    model = 'haar'\n",
    "    level = 1\n",
    "    image_array = convert_frame(img, 2048)\n",
    "    watermark_array = convert_image(watermark, wm_size)\n",
    "\n",
    "    plt.imshow(watermark_array, cmap='gray')\n",
    "\n",
    "    coeffs_image = process_coefficients(image_array, model, level=level)\n",
    "    dct_array = apply_dct(coeffs_image[0])\n",
    "    dct_array, watermark_original = embed_watermark(watermark_array, dct_array)\n",
    "    coeffs_image[0] = inverse_dct(dct_array)\n",
    "  \n",
    "\n",
    "# reconstruction\n",
    "    image_array_H=pywt.waverec2(coeffs_image, model)\n",
    "\n",
    "    \n",
    "    \n",
    "# recover images\n",
    "    return image_array_H, watermark_original"
   ]
  },
  {
   "cell_type": "code",
   "execution_count": null,
   "metadata": {},
   "outputs": [],
   "source": [
    "cap = cv2.VideoCapture(file_folder + 'oppenheimer_trailer.mp4')\n",
    "\n",
    "\n",
    "sequence = [] #List of watermark frames\n",
    "\n",
    "assert cap.isOpened()\n",
    "\n",
    "frame_number = first_frame_number\n",
    "total_frames = last_frame_number\n",
    "\n",
    "while True:\n",
    "\n",
    "    frame_number += 1\n",
    "\n",
    "    print(\"Watermarking frame n°{}\".format(frame_number))\n",
    "\n",
    "    cap.set(1, frame_number)\n",
    "    ret, frame = cap.read()\n",
    "\n",
    "    if not ret or frame_number >= last_frame_number:\n",
    "        break\n",
    "\n",
    "    # Modify the pixels of the frame here\n",
    "    # For example, convert the frame to grayscale\n",
    "    \n",
    "    frame, w_original = w2d(frame) #Embeds the watermark into the frame, returns the watermarked frame and the flattened watermark\n",
    "    \n",
    "    cv2.imwrite(output_folder + 'frames/frame_{}.png'.format(frame_number), frame) #Saves the watermarked image\n",
    "\n",
    "    # Write the modified frame to a new video file\n",
    "    w_recovered, w_flat = save_watermark(frame_number) #Recovers the watermark from the watermarked frame, returns the recovered watermark and the flattened watermark\n",
    "\n",
    "    sequence.append(np.array(w_recovered)) #Adds the recovered watermark to the list of watermarks\n",
    "\n",
    "    \n",
    "    if cv2.waitKey(1) & 0xFF == ord('q'):\n",
    "        break\n",
    "\n",
    "cap.release()\n",
    "cv2.destroyAllWindows()\n"
   ]
  },
  {
   "cell_type": "code",
   "execution_count": null,
   "metadata": {},
   "outputs": [],
   "source": [
    "def average_frames(sequence): #Computes the average frame for a sequence of frames\n",
    "    average = np.zeros(sequence[0].shape)\n",
    "    for frame in sequence:\n",
    "        print(frame)\n",
    "        average += frame\n",
    "    average /= len(sequence)\n",
    "    return average\n",
    "\n",
    "avg = average_frames(sequence) #Computes the average watermark\n",
    "\n",
    "plt.imshow(avg, cmap='gray')\n",
    "plt.savefig(output_folder + 'average_wm.png')"
   ]
  },
  {
   "cell_type": "markdown",
   "metadata": {},
   "source": []
  }
 ],
 "metadata": {
  "kernelspec": {
   "display_name": "Python 3",
   "language": "python",
   "name": "python3"
  },
  "language_info": {
   "codemirror_mode": {
    "name": "ipython",
    "version": 3
   },
   "file_extension": ".py",
   "mimetype": "text/x-python",
   "name": "python",
   "nbconvert_exporter": "python",
   "pygments_lexer": "ipython3",
   "version": "3.9.13"
  }
 },
 "nbformat": 4,
 "nbformat_minor": 4
}
