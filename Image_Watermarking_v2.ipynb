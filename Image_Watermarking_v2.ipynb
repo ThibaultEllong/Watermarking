{
 "cells": [
  {
   "cell_type": "code",
   "execution_count": null,
   "metadata": {},
   "outputs": [],
   "source": [
    "\n"
   ]
  },
  {
   "cell_type": "code",
   "execution_count": 9,
   "metadata": {},
   "outputs": [],
   "source": [
    "import numpy as np\n",
    "import pywt\n",
    "import os\n",
    "from PIL import Image\n",
    "from scipy.fftpack import dct\n",
    "from scipy.fftpack import idct\n",
    "import cv2"
   ]
  },
  {
   "cell_type": "code",
   "execution_count": null,
   "metadata": {},
   "outputs": [],
   "source": []
  },
  {
   "cell_type": "code",
   "execution_count": 85,
   "metadata": {},
   "outputs": [],
   "source": [
    "image = 'image_with_watermark.png'   \n",
    "watermark = 'wm_rosace.jpg' "
   ]
  },
  {
   "cell_type": "markdown",
   "metadata": {},
   "source": [
    "<img src=\"pictures/imagetest1.jpg\" width=\"400\" />\n",
    "Watermarkded image\n",
    "<img src=\"pictures/wmtest1.jpg\">\n",
    "Extracted watermark"
   ]
  },
  {
   "cell_type": "code",
   "execution_count": 11,
   "metadata": {},
   "outputs": [],
   "source": [
    "def convert_image(image_name, size):\n",
    "    img = Image.open(image_name)\n",
    "    print(type(img))\n",
    "    img = img.resize((size, size), 1)\n",
    "    img = img.convert('L')\n",
    "    img.save(image_name)\n",
    "\n",
    " \n",
    "    image_array = np.array(img.getdata(), dtype=np.float32).reshape((size, size))\n",
    "    print(image_array[0][0])\n",
    "    print(image_array[10][10])             \n",
    "\n",
    "    return image_array"
   ]
  },
  {
   "cell_type": "code",
   "execution_count": 12,
   "metadata": {},
   "outputs": [],
   "source": [
    "def process_coefficients(imArray, model, level):\n",
    "    coeffs=pywt.wavedec2(data = imArray, wavelet = model, level = level)\n",
    "    # print coeffs[0].__len__()\n",
    "    coeffs_H=list(coeffs) \n",
    "   \n",
    "    return coeffs_H\n"
   ]
  },
  {
   "cell_type": "code",
   "execution_count": 13,
   "metadata": {},
   "outputs": [],
   "source": [
    "def embed_mod2(coeff_image, coeff_watermark, offset=0):\n",
    "    for i in xrange(coeff_watermark.__len__()):\n",
    "        for j in xrange(coeff_watermark[i].__len__()):\n",
    "            coeff_image[i*2+offset][j*2+offset] = coeff_watermark[i][j]\n",
    "\n",
    "    return coeff_image"
   ]
  },
  {
   "cell_type": "code",
   "execution_count": 14,
   "metadata": {},
   "outputs": [],
   "source": [
    "def embed_mod4(coeff_image, coeff_watermark):\n",
    "    for i in xrange(coeff_watermark.__len__()):\n",
    "        for j in xrange(coeff_watermark[i].__len__()):\n",
    "            coeff_image[i*4][j*4] = coeff_watermark[i][j]\n",
    "\n",
    "    return coeff_image"
   ]
  },
  {
   "cell_type": "code",
   "execution_count": 15,
   "metadata": {},
   "outputs": [],
   "source": [
    "def embed_watermark(watermark_array, orig_image, coeff):\n",
    "    watermark_array_size = watermark_array[0].__len__()\n",
    "    watermark_flat = watermark_array.ravel()\n",
    "    ind = 0\n",
    "\n",
    "    for x in range (0, orig_image.__len__(), 8):\n",
    "        for y in range (0, orig_image.__len__(), 8):\n",
    "            if ind < watermark_flat.__len__():\n",
    "                subdct = orig_image[x:x+8, y:y+8]\n",
    "                subdct[5][5] = watermark_flat[ind] * coeff\n",
    "                orig_image[x:x+8, y:y+8] = subdct\n",
    "                ind += 1 \n",
    "\n",
    "\n",
    "    return orig_image"
   ]
  },
  {
   "cell_type": "code",
   "execution_count": 16,
   "metadata": {},
   "outputs": [],
   "source": [
    "def apply_dct(image_array):\n",
    "    size = image_array[0].__len__()\n",
    "    all_subdct = np.empty((size, size))\n",
    "    for i in range (0, size, 8):\n",
    "        for j in range (0, size, 8):\n",
    "            subpixels = image_array[i:i+8, j:j+8]\n",
    "            subdct = dct(dct(subpixels.T, norm=\"ortho\").T, norm=\"ortho\")\n",
    "            all_subdct[i:i+8, j:j+8] = subdct\n",
    "\n",
    "    return all_subdct"
   ]
  },
  {
   "cell_type": "code",
   "execution_count": 17,
   "metadata": {},
   "outputs": [],
   "source": [
    "def inverse_dct(all_subdct):\n",
    "    size = all_subdct[0].__len__()\n",
    "    all_subidct = np.empty((size, size))\n",
    "    for i in range (0, size, 8):\n",
    "        for j in range (0, size, 8):\n",
    "            subidct = idct(idct(all_subdct[i:i+8, j:j+8].T, norm=\"ortho\").T, norm=\"ortho\")\n",
    "            all_subidct[i:i+8, j:j+8] = subidct\n",
    "\n",
    "    return all_subidct"
   ]
  },
  {
   "cell_type": "code",
   "execution_count": 18,
   "metadata": {},
   "outputs": [],
   "source": [
    "def get_watermark(dct_watermarked_coeff, watermark_size, coeff):\n",
    "    \n",
    "    subwatermarks = []\n",
    "\n",
    "    for x in range (0, dct_watermarked_coeff.__len__(), 8):\n",
    "        for y in range (0, dct_watermarked_coeff.__len__(), 8):\n",
    "            coeff_slice = dct_watermarked_coeff[x:x+8, y:y+8]\n",
    "            subwatermarks.append(coeff_slice[5][5]/coeff)\n",
    "\n",
    "    watermark = np.array(subwatermarks).reshape(watermark_size, watermark_size)\n",
    "\n",
    "    return watermark"
   ]
  },
  {
   "cell_type": "code",
   "execution_count": 19,
   "metadata": {},
   "outputs": [],
   "source": [
    "def recover_watermark(image_array, model='haar', level = 1):\n",
    "\n",
    "    coeffs_watermarked_image = process_coefficients(image_array, model, level=level)\n",
    "    dct_watermarked_coeff = apply_dct(coeffs_watermarked_image[0])\n",
    "    \n",
    "    watermark_array = get_watermark(dct_watermarked_coeff, 128, 0.1)\n",
    "\n",
    "    watermark_array =  np.uint8(watermark_array)\n",
    "\n",
    "#Save result\n",
    "    img = Image.fromarray(watermark_array)\n",
    "    img.save('./recovered_watermark.jpg')"
   ]
  },
  {
   "cell_type": "code",
   "execution_count": 20,
   "metadata": {},
   "outputs": [],
   "source": [
    "def print_image_from_array(image_array, name):\n",
    "  \n",
    "    image_array_copy = image_array.clip(0, 255)\n",
    "    image_array_copy = image_array_copy.astype(\"uint8\")\n",
    "    img = Image.fromarray(image_array_copy)\n",
    "    img.save(name)"
   ]
  },
  {
   "cell_type": "code",
   "execution_count": 61,
   "metadata": {},
   "outputs": [],
   "source": [
    "def add_gaussian_noise(image, mean, std_dev):\n",
    "    row, col = image.shape\n",
    "    gauss = np.random.normal(mean, std_dev, (row, col))\n",
    "    gauss = gauss.reshape(row, col)\n",
    "    noisy = image + gauss\n",
    "    print_image_from_array(noisy, 'image_w_gaussian.png')\n",
    "\n",
    "    return noisy"
   ]
  },
  {
   "cell_type": "code",
   "execution_count": 33,
   "metadata": {},
   "outputs": [],
   "source": [
    "def w2d(img):\n",
    "    model = 'haar'\n",
    "    level = 1\n",
    "    image_array = convert_image(image, 2048)\n",
    "    watermark_array = convert_image(watermark, 128)\n",
    "\n",
    "    coeffs_image = process_coefficients(image_array, model, level=level)\n",
    "    dct_array = apply_dct(coeffs_image[0])\n",
    "    dct_array = embed_watermark(watermark_array, dct_array, 0.1)\n",
    "    coeffs_image[0] = inverse_dct(dct_array)\n",
    "  \n",
    "\n",
    "# reconstruction\n",
    "    image_array_H=pywt.waverec2(coeffs_image, model)\n",
    "    print_image_from_array(image_array_H, 'image_with_watermark.png')\n",
    "    \n",
    "    \n",
    "# recover images\n",
    "    recover_watermark(image_array = image_array_H, model=model, level = level)"
   ]
  },
  {
   "cell_type": "code",
   "execution_count": 35,
   "metadata": {},
   "outputs": [
    {
     "name": "stdout",
     "output_type": "stream",
     "text": [
      "<class 'PIL.PngImagePlugin.PngImageFile'>\n",
      "144.0\n",
      "146.0\n",
      "<class 'PIL.JpegImagePlugin.JpegImageFile'>\n",
      "255.0\n",
      "255.0\n"
     ]
    }
   ],
   "source": [
    "w2d(\"test\")"
   ]
  },
  {
   "cell_type": "markdown",
   "metadata": {},
   "source": [
    "<img src=\"result/image_with_watermark.jpg\" width=\"400\" />\n",
    "Watermarkded image\n",
    "<img src=\"result/recovered_watermark.jpg\">\n",
    "Extracted watermark"
   ]
  },
  {
   "cell_type": "markdown",
   "metadata": {},
   "source": []
  },
  {
   "cell_type": "code",
   "execution_count": 93,
   "metadata": {},
   "outputs": [],
   "source": [
    "def translation(image, k):\n",
    "    cop = image\n",
    "    for x in range(0, len(cop)):\n",
    "        for y in range(0, len(cop[0])):\n",
    "            cop[x][y]=image[x][(y+k)%len(cop[0])]\n",
    "    print_image_from_array(cop, 'image_translated.png')\n",
    "    return cop"
   ]
  },
  {
   "cell_type": "code",
   "execution_count": 131,
   "metadata": {},
   "outputs": [],
   "source": [
    "def cropping(image): \n",
    "    img=Image.crop(left, top, right, bottom)\n",
    "    left = 4\n",
    "    top = len(img)-4\n",
    "    right = len(img)-4\n",
    "    bottom = 4\n",
    "    img_res = image.crop((left, top, right, bottom))\n",
    "    return img_res"
   ]
  },
  {
   "cell_type": "code",
   "execution_count": 132,
   "metadata": {},
   "outputs": [],
   "source": [
    "def extract():\n",
    "    model = 'haar'\n",
    "    level = 1\n",
    "    translated=cropping(image_array)\n",
    "    image_array = convert_image(translated, 2048)\n",
    "    recover_watermark(image_array = translated, model=model, level = level)\n",
    "    "
   ]
  },
  {
   "cell_type": "code",
   "execution_count": 133,
   "metadata": {},
   "outputs": [
    {
     "ename": "UnboundLocalError",
     "evalue": "cannot access local variable 'image_array' where it is not associated with a value",
     "output_type": "error",
     "traceback": [
      "\u001b[1;31m---------------------------------------------------------------------------\u001b[0m",
      "\u001b[1;31mUnboundLocalError\u001b[0m                         Traceback (most recent call last)",
      "\u001b[1;32mc:\\Users\\andre\\OneDrive\\Documents\\HTI\\result\\Image_Watermarking.ipynb Cell 24\u001b[0m line \u001b[0;36m1\n\u001b[1;32m----> <a href='vscode-notebook-cell:/c%3A/Users/andre/OneDrive/Documents/HTI/result/Image_Watermarking.ipynb#X25sZmlsZQ%3D%3D?line=0'>1</a>\u001b[0m extract()\n",
      "\u001b[1;32mc:\\Users\\andre\\OneDrive\\Documents\\HTI\\result\\Image_Watermarking.ipynb Cell 24\u001b[0m line \u001b[0;36m4\n\u001b[0;32m      <a href='vscode-notebook-cell:/c%3A/Users/andre/OneDrive/Documents/HTI/result/Image_Watermarking.ipynb#X25sZmlsZQ%3D%3D?line=1'>2</a>\u001b[0m model \u001b[39m=\u001b[39m \u001b[39m'\u001b[39m\u001b[39mhaar\u001b[39m\u001b[39m'\u001b[39m\n\u001b[0;32m      <a href='vscode-notebook-cell:/c%3A/Users/andre/OneDrive/Documents/HTI/result/Image_Watermarking.ipynb#X25sZmlsZQ%3D%3D?line=2'>3</a>\u001b[0m level \u001b[39m=\u001b[39m \u001b[39m1\u001b[39m\n\u001b[1;32m----> <a href='vscode-notebook-cell:/c%3A/Users/andre/OneDrive/Documents/HTI/result/Image_Watermarking.ipynb#X25sZmlsZQ%3D%3D?line=3'>4</a>\u001b[0m translated\u001b[39m=\u001b[39mcropping(image_array)\n\u001b[0;32m      <a href='vscode-notebook-cell:/c%3A/Users/andre/OneDrive/Documents/HTI/result/Image_Watermarking.ipynb#X25sZmlsZQ%3D%3D?line=4'>5</a>\u001b[0m image_array \u001b[39m=\u001b[39m convert_image(translated, \u001b[39m2048\u001b[39m)\n\u001b[0;32m      <a href='vscode-notebook-cell:/c%3A/Users/andre/OneDrive/Documents/HTI/result/Image_Watermarking.ipynb#X25sZmlsZQ%3D%3D?line=5'>6</a>\u001b[0m recover_watermark(image_array \u001b[39m=\u001b[39m translated, model\u001b[39m=\u001b[39mmodel, level \u001b[39m=\u001b[39m level)\n",
      "\u001b[1;31mUnboundLocalError\u001b[0m: cannot access local variable 'image_array' where it is not associated with a value"
     ]
    }
   ],
   "source": [
    "extract()"
   ]
  }
 ],
 "metadata": {
  "kernelspec": {
   "display_name": "Python 3",
   "language": "python",
   "name": "python3"
  },
  "language_info": {
   "codemirror_mode": {
    "name": "ipython",
    "version": 3
   },
   "file_extension": ".py",
   "mimetype": "text/x-python",
   "name": "python",
   "nbconvert_exporter": "python",
   "pygments_lexer": "ipython3",
   "version": "3.11.5"
  }
 },
 "nbformat": 4,
 "nbformat_minor": 4
}
