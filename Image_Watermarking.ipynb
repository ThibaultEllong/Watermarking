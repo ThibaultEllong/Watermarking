{
 "cells": [
  {
   "cell_type": "code",
   "execution_count": 57,
   "metadata": {},
   "outputs": [],
   "source": [
    "import numpy as np\n",
    "import pywt\n",
    "import os\n",
    "from PIL import Image\n",
    "from scipy.fftpack import dct\n",
    "from scipy.fftpack import idct"
   ]
  },
  {
   "cell_type": "code",
   "execution_count": 58,
   "metadata": {},
   "outputs": [],
   "source": [
    "image = 'oppenheimer_screenshot.png'   \n",
    "watermark = 'wmtest1.jpg' "
   ]
  },
  {
   "cell_type": "markdown",
   "metadata": {},
   "source": [
    "<img src=\"pictures/imagetest1.jpg\" width=\"400\" />\n",
    "Watermarkded image\n",
    "<img src=\"pictures/wmtest1.jpg\">\n",
    "Extracted watermark"
   ]
  },
  {
   "cell_type": "code",
   "execution_count": 71,
   "metadata": {},
   "outputs": [],
   "source": [
    "def convert_image(image_name, size):\n",
    "    img = Image.open(r'files/' + image_name)\n",
    "    print(type(img))\n",
    "    img = img.resize((size, size), 1)\n",
    "    img = img.convert('L')\n",
    "    img.save(r'output/image_script/' + image_name)\n",
    "\n",
    " \n",
    "    image_array = np.array(img.getdata(), dtype=np.float).reshape((size, size))\n",
    "    print(image_array[0][0])\n",
    "    print(image_array[10][10])             \n",
    "\n",
    "    return image_array"
   ]
  },
  {
   "cell_type": "code",
   "execution_count": 60,
   "metadata": {},
   "outputs": [],
   "source": [
    "def process_coefficients(imArray, model, level):\n",
    "    coeffs=pywt.wavedec2(data = imArray, wavelet = model, level = level)\n",
    "    # print coeffs[0].__len__()\n",
    "    coeffs_H=list(coeffs) \n",
    "   \n",
    "    return coeffs_H\n"
   ]
  },
  {
   "cell_type": "code",
   "execution_count": 61,
   "metadata": {},
   "outputs": [],
   "source": [
    "def embed_mod2(coeff_image, coeff_watermark, offset=0):\n",
    "    for i in xrange(coeff_watermark.__len__()):\n",
    "        for j in xrange(coeff_watermark[i].__len__()):\n",
    "            coeff_image[i*2+offset][j*2+offset] = coeff_watermark[i][j]\n",
    "\n",
    "    return coeff_image"
   ]
  },
  {
   "cell_type": "code",
   "execution_count": 62,
   "metadata": {},
   "outputs": [],
   "source": [
    "def embed_mod4(coeff_image, coeff_watermark):\n",
    "    for i in xrange(coeff_watermark.__len__()):\n",
    "        for j in xrange(coeff_watermark[i].__len__()):\n",
    "            coeff_image[i*4][j*4] = coeff_watermark[i][j]\n",
    "\n",
    "    return coeff_image"
   ]
  },
  {
   "cell_type": "code",
   "execution_count": 63,
   "metadata": {},
   "outputs": [],
   "source": [
    "def embed_watermark(watermark_array, orig_image):\n",
    "    watermark_array_size = watermark_array[0].__len__()\n",
    "    watermark_flat = watermark_array.ravel()\n",
    "    ind = 0\n",
    "\n",
    "    for x in range (0, orig_image.__len__(), 8):\n",
    "        for y in range (0, orig_image.__len__(), 8):\n",
    "            if ind < watermark_flat.__len__():\n",
    "                subdct = orig_image[x:x+8, y:y+8]\n",
    "                subdct[5][5] = watermark_flat[ind]\n",
    "                orig_image[x:x+8, y:y+8] = subdct\n",
    "                ind += 1 \n",
    "\n",
    "\n",
    "    return orig_image"
   ]
  },
  {
   "cell_type": "code",
   "execution_count": 64,
   "metadata": {},
   "outputs": [],
   "source": [
    "def apply_dct(image_array):\n",
    "    size = image_array[0].__len__()\n",
    "    all_subdct = np.empty((size, size))\n",
    "    for i in range (0, size, 8):\n",
    "        for j in range (0, size, 8):\n",
    "            subpixels = image_array[i:i+8, j:j+8]\n",
    "            subdct = dct(dct(subpixels.T, norm=\"ortho\").T, norm=\"ortho\")\n",
    "            all_subdct[i:i+8, j:j+8] = subdct\n",
    "\n",
    "    return all_subdct"
   ]
  },
  {
   "cell_type": "code",
   "execution_count": 65,
   "metadata": {},
   "outputs": [],
   "source": [
    "def inverse_dct(all_subdct):\n",
    "    size = all_subdct[0].__len__()\n",
    "    all_subidct = np.empty((size, size))\n",
    "    for i in range (0, size, 8):\n",
    "        for j in range (0, size, 8):\n",
    "            subidct = idct(idct(all_subdct[i:i+8, j:j+8].T, norm=\"ortho\").T, norm=\"ortho\")\n",
    "            all_subidct[i:i+8, j:j+8] = subidct\n",
    "\n",
    "    return all_subidct"
   ]
  },
  {
   "cell_type": "code",
   "execution_count": 66,
   "metadata": {},
   "outputs": [],
   "source": [
    "def get_watermark(dct_watermarked_coeff, watermark_size):\n",
    "    \n",
    "    subwatermarks = []\n",
    "\n",
    "    for x in range (0, dct_watermarked_coeff.__len__(), 8):\n",
    "        for y in range (0, dct_watermarked_coeff.__len__(), 8):\n",
    "            coeff_slice = dct_watermarked_coeff[x:x+8, y:y+8]\n",
    "            subwatermarks.append(coeff_slice[5][5])\n",
    "\n",
    "    watermark = np.array(subwatermarks).reshape(watermark_size, watermark_size)\n",
    "\n",
    "    return watermark"
   ]
  },
  {
   "cell_type": "code",
   "execution_count": 67,
   "metadata": {},
   "outputs": [],
   "source": [
    "def recover_watermark(image_array, model='haar', level = 1):\n",
    "\n",
    "\n",
    "    coeffs_watermarked_image = process_coefficients(image_array, model, level=level)\n",
    "    dct_watermarked_coeff = apply_dct(coeffs_watermarked_image[0])\n",
    "    \n",
    "    watermark_array = get_watermark(dct_watermarked_coeff, 128)\n",
    "\n",
    "    watermark_array =  np.uint8(watermark_array)\n",
    "\n",
    "#Save result\n",
    "    img = Image.fromarray(watermark_array)\n",
    "    img.save('./output/image_script/recovered_watermark.jpg')"
   ]
  },
  {
   "cell_type": "code",
   "execution_count": 68,
   "metadata": {},
   "outputs": [],
   "source": [
    "def print_image_from_array(image_array, name):\n",
    "  \n",
    "    image_array_copy = image_array.clip(0, 255)\n",
    "    image_array_copy = image_array_copy.astype(\"uint8\")\n",
    "    img = Image.fromarray(image_array_copy)\n",
    "    img.save(r'output/image_script/' + name)"
   ]
  },
  {
   "cell_type": "code",
   "execution_count": 69,
   "metadata": {},
   "outputs": [],
   "source": [
    "def w2d(img):\n",
    "    model = 'haar'\n",
    "    level = 1\n",
    "    image_array = convert_image(image, 2048)\n",
    "    watermark_array = convert_image(watermark, 128)\n",
    "\n",
    "    coeffs_image = process_coefficients(image_array, model, level=level)\n",
    "    dct_array = apply_dct(coeffs_image[0])\n",
    "    dct_array = embed_watermark(watermark_array, dct_array)\n",
    "    coeffs_image[0] = inverse_dct(dct_array)\n",
    "  \n",
    "\n",
    "# reconstruction\n",
    "    image_array_H=pywt.waverec2(coeffs_image, model)\n",
    "    print_image_from_array(image_array_H, 'image_with_watermark.jpg')\n",
    "    \n",
    "    \n",
    "# recover images\n",
    "    recover_watermark(image_array = image_array_H, model=model, level = level)"
   ]
  },
  {
   "cell_type": "code",
   "execution_count": 72,
   "metadata": {},
   "outputs": [
    {
     "name": "stdout",
     "output_type": "stream",
     "text": [
      "<class 'PIL.PngImagePlugin.PngImageFile'>\n"
     ]
    },
    {
     "name": "stderr",
     "output_type": "stream",
     "text": [
      "C:\\Users\\titit\\AppData\\Local\\Temp\\ipykernel_17176\\244457255.py:9: DeprecationWarning: `np.float` is a deprecated alias for the builtin `float`. To silence this warning, use `float` by itself. Doing this will not modify any behavior and is safe. If you specifically wanted the numpy scalar type, use `np.float64` here.\n",
      "Deprecated in NumPy 1.20; for more details and guidance: https://numpy.org/devdocs/release/1.20.0-notes.html#deprecations\n",
      "  image_array = np.array(img.getdata(), dtype=np.float).reshape((size, size))\n"
     ]
    },
    {
     "ename": "ValueError",
     "evalue": "cannot reshape array of size 2073600 into shape (2048,2048)",
     "output_type": "error",
     "traceback": [
      "\u001b[1;31m---------------------------------------------------------------------------\u001b[0m",
      "\u001b[1;31mValueError\u001b[0m                                Traceback (most recent call last)",
      "\u001b[1;32mg:\\TSP\\3A\\HTI\\Multimedia Content Protection\\Watermarking\\Image_Watermarking.ipynb Cell 15\u001b[0m line \u001b[0;36m1\n\u001b[1;32m----> <a href='vscode-notebook-cell:/g%3A/TSP/3A/HTI/Multimedia%20Content%20Protection/Watermarking/Image_Watermarking.ipynb#X20sZmlsZQ%3D%3D?line=0'>1</a>\u001b[0m w2d(\u001b[39m\"\u001b[39;49m\u001b[39mtest\u001b[39;49m\u001b[39m\"\u001b[39;49m)\n",
      "\u001b[1;32mg:\\TSP\\3A\\HTI\\Multimedia Content Protection\\Watermarking\\Image_Watermarking.ipynb Cell 15\u001b[0m line \u001b[0;36m4\n\u001b[0;32m      <a href='vscode-notebook-cell:/g%3A/TSP/3A/HTI/Multimedia%20Content%20Protection/Watermarking/Image_Watermarking.ipynb#X20sZmlsZQ%3D%3D?line=1'>2</a>\u001b[0m model \u001b[39m=\u001b[39m \u001b[39m'\u001b[39m\u001b[39mhaar\u001b[39m\u001b[39m'\u001b[39m\n\u001b[0;32m      <a href='vscode-notebook-cell:/g%3A/TSP/3A/HTI/Multimedia%20Content%20Protection/Watermarking/Image_Watermarking.ipynb#X20sZmlsZQ%3D%3D?line=2'>3</a>\u001b[0m level \u001b[39m=\u001b[39m \u001b[39m1\u001b[39m\n\u001b[1;32m----> <a href='vscode-notebook-cell:/g%3A/TSP/3A/HTI/Multimedia%20Content%20Protection/Watermarking/Image_Watermarking.ipynb#X20sZmlsZQ%3D%3D?line=3'>4</a>\u001b[0m image_array \u001b[39m=\u001b[39m convert_image(image, \u001b[39m2048\u001b[39;49m)\n\u001b[0;32m      <a href='vscode-notebook-cell:/g%3A/TSP/3A/HTI/Multimedia%20Content%20Protection/Watermarking/Image_Watermarking.ipynb#X20sZmlsZQ%3D%3D?line=4'>5</a>\u001b[0m watermark_array \u001b[39m=\u001b[39m convert_image(watermark, \u001b[39m128\u001b[39m)\n\u001b[0;32m      <a href='vscode-notebook-cell:/g%3A/TSP/3A/HTI/Multimedia%20Content%20Protection/Watermarking/Image_Watermarking.ipynb#X20sZmlsZQ%3D%3D?line=6'>7</a>\u001b[0m coeffs_image \u001b[39m=\u001b[39m process_coefficients(image_array, model, level\u001b[39m=\u001b[39mlevel)\n",
      "\u001b[1;32mg:\\TSP\\3A\\HTI\\Multimedia Content Protection\\Watermarking\\Image_Watermarking.ipynb Cell 15\u001b[0m line \u001b[0;36m9\n\u001b[0;32m      <a href='vscode-notebook-cell:/g%3A/TSP/3A/HTI/Multimedia%20Content%20Protection/Watermarking/Image_Watermarking.ipynb#X20sZmlsZQ%3D%3D?line=4'>5</a>\u001b[0m img \u001b[39m=\u001b[39m img\u001b[39m.\u001b[39mconvert(\u001b[39m'\u001b[39m\u001b[39mL\u001b[39m\u001b[39m'\u001b[39m)\n\u001b[0;32m      <a href='vscode-notebook-cell:/g%3A/TSP/3A/HTI/Multimedia%20Content%20Protection/Watermarking/Image_Watermarking.ipynb#X20sZmlsZQ%3D%3D?line=5'>6</a>\u001b[0m img\u001b[39m.\u001b[39msave(\u001b[39mr\u001b[39m\u001b[39m'\u001b[39m\u001b[39moutput/image_script/\u001b[39m\u001b[39m'\u001b[39m \u001b[39m+\u001b[39m image_name)\n\u001b[1;32m----> <a href='vscode-notebook-cell:/g%3A/TSP/3A/HTI/Multimedia%20Content%20Protection/Watermarking/Image_Watermarking.ipynb#X20sZmlsZQ%3D%3D?line=8'>9</a>\u001b[0m image_array \u001b[39m=\u001b[39m np\u001b[39m.\u001b[39;49marray(img\u001b[39m.\u001b[39;49mgetdata(), dtype\u001b[39m=\u001b[39;49mnp\u001b[39m.\u001b[39;49mfloat)\u001b[39m.\u001b[39;49mreshape((size, size))\n\u001b[0;32m     <a href='vscode-notebook-cell:/g%3A/TSP/3A/HTI/Multimedia%20Content%20Protection/Watermarking/Image_Watermarking.ipynb#X20sZmlsZQ%3D%3D?line=9'>10</a>\u001b[0m \u001b[39mprint\u001b[39m(image_array[\u001b[39m0\u001b[39m][\u001b[39m0\u001b[39m])\n\u001b[0;32m     <a href='vscode-notebook-cell:/g%3A/TSP/3A/HTI/Multimedia%20Content%20Protection/Watermarking/Image_Watermarking.ipynb#X20sZmlsZQ%3D%3D?line=10'>11</a>\u001b[0m \u001b[39mprint\u001b[39m(image_array[\u001b[39m10\u001b[39m][\u001b[39m10\u001b[39m])             \n",
      "\u001b[1;31mValueError\u001b[0m: cannot reshape array of size 2073600 into shape (2048,2048)"
     ]
    }
   ],
   "source": [
    "w2d(\"test\")"
   ]
  },
  {
   "cell_type": "markdown",
   "metadata": {},
   "source": [
    "<img src=\"result/image_with_watermark.jpg\" width=\"400\" />\n",
    "Watermarkded image\n",
    "<img src=\"result/recovered_watermark.jpg\">\n",
    "Extracted watermark"
   ]
  },
  {
   "cell_type": "markdown",
   "metadata": {},
   "source": []
  },
  {
   "cell_type": "code",
   "execution_count": null,
   "metadata": {},
   "outputs": [],
   "source": []
  }
 ],
 "metadata": {
  "kernelspec": {
   "display_name": "Python 3",
   "language": "python",
   "name": "python3"
  },
  "language_info": {
   "codemirror_mode": {
    "name": "ipython",
    "version": 3
   },
   "file_extension": ".py",
   "mimetype": "text/x-python",
   "name": "python",
   "nbconvert_exporter": "python",
   "pygments_lexer": "ipython3",
   "version": "3.9.13"
  }
 },
 "nbformat": 4,
 "nbformat_minor": 4
}
